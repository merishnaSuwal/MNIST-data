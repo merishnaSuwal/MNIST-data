{
 "cells": [
  {
   "cell_type": "code",
   "execution_count": 0,
   "metadata": {
    "colab": {
     "autoexec": {
      "startup": false,
      "wait_interval": 0
     }
    },
    "colab_type": "code",
    "id": "_Ukjxn6MCqht"
   },
   "outputs": [],
   "source": [
    "import tensorflow as tf"
   ]
  },
  {
   "cell_type": "code",
   "execution_count": 0,
   "metadata": {
    "colab": {
     "autoexec": {
      "startup": false,
      "wait_interval": 0
     }
    },
    "colab_type": "code",
    "id": "_qedVgeQCqh0"
   },
   "outputs": [],
   "source": [
    "from tensorflow.examples.tutorials.mnist import input_data\n"
   ]
  },
  {
   "cell_type": "code",
   "execution_count": 3,
   "metadata": {
    "colab": {
     "autoexec": {
      "startup": false,
      "wait_interval": 0
     },
     "base_uri": "https://localhost:8080/",
     "height": 153,
     "output_extras": [
      {
       "item_id": 3
      }
     ]
    },
    "colab_type": "code",
    "executionInfo": {
     "elapsed": 1726,
     "status": "ok",
     "timestamp": 1520435920731,
     "user": {
      "displayName": "Merishna Singh Suwal",
      "photoUrl": "//lh3.googleusercontent.com/-vrpR-40Xvo0/AAAAAAAAAAI/AAAAAAAAATE/UqEWOwF4w5o/s50-c-k-no/photo.jpg",
      "userId": "103265059618479394145"
     },
     "user_tz": -345
    },
    "id": "9esL6zUACqh6",
    "outputId": "258f6746-db33-4a2f-dfd6-dcc275a3e2ad"
   },
   "outputs": [
    {
     "name": "stdout",
     "output_type": "stream",
     "text": [
      "Successfully downloaded train-images-idx3-ubyte.gz 9912422 bytes.\n",
      "Extracting MNIST_data/train-images-idx3-ubyte.gz\n",
      "Successfully downloaded train-labels-idx1-ubyte.gz 28881 bytes.\n",
      "Extracting MNIST_data/train-labels-idx1-ubyte.gz\n",
      "Successfully downloaded t10k-images-idx3-ubyte.gz 1648877 bytes.\n",
      "Extracting MNIST_data/t10k-images-idx3-ubyte.gz\n",
      "Successfully downloaded t10k-labels-idx1-ubyte.gz 4542 bytes.\n",
      "Extracting MNIST_data/t10k-labels-idx1-ubyte.gz\n"
     ]
    }
   ],
   "source": [
    "mnist = input_data.read_data_sets(\"MNIST_data/\", one_hot=True)"
   ]
  },
  {
   "cell_type": "code",
   "execution_count": 0,
   "metadata": {
    "colab": {
     "autoexec": {
      "startup": false,
      "wait_interval": 0
     }
    },
    "colab_type": "code",
    "id": "ZaYvOu3XCqiE"
   },
   "outputs": [],
   "source": [
    "# HELPER"
   ]
  },
  {
   "cell_type": "code",
   "execution_count": 0,
   "metadata": {
    "colab": {
     "autoexec": {
      "startup": false,
      "wait_interval": 0
     }
    },
    "colab_type": "code",
    "id": "hUPXX6EeCqiI"
   },
   "outputs": [],
   "source": [
    "# INIT WEIGHTS \n",
    "def init_weights(shape):\n",
    "    init_random_dist = tf.truncated_normal(shape, stddev=0.1)\n",
    "    return tf.Variable(init_random_dist)"
   ]
  },
  {
   "cell_type": "code",
   "execution_count": 0,
   "metadata": {
    "colab": {
     "autoexec": {
      "startup": false,
      "wait_interval": 0
     }
    },
    "colab_type": "code",
    "id": "47-_uBd7CqiO"
   },
   "outputs": [],
   "source": [
    "# INIT BIAS\n",
    "def init_bias(shape):\n",
    "    init_bias_vals = tf.constant(0.1, shape=shape)\n",
    "    return tf.Variable(init_bias_vals)"
   ]
  },
  {
   "cell_type": "code",
   "execution_count": 0,
   "metadata": {
    "colab": {
     "autoexec": {
      "startup": false,
      "wait_interval": 0
     }
    },
    "colab_type": "code",
    "id": "5WvJp2jfCqiS"
   },
   "outputs": [],
   "source": [
    "# 2DCONVOLUTION\n",
    "def conv2d(x,W):\n",
    "    # x is the input tensor [batch, height of img, width of img,channels]\n",
    "    # W is the kernel [filter height, filter width, Channels IN, Channels OUT]\n",
    "    return tf.nn.conv2d(x, W, strides=[1, 1, 1, 1],padding ='SAME' ) #zero padding = SAME"
   ]
  },
  {
   "cell_type": "code",
   "execution_count": 0,
   "metadata": {
    "colab": {
     "autoexec": {
      "startup": false,
      "wait_interval": 0
     }
    },
    "colab_type": "code",
    "id": "kUwGVGLKCqiW"
   },
   "outputs": [],
   "source": [
    "# POOLING\n",
    "def max_pool_2by2(x): #takes the max value in the 2x2 matrix\n",
    "    # x is the input tensor [batch, height of img, width of img,channels]\n",
    "    #pooling only along height and width\n",
    "    return tf.nn.max_pool(x, ksize=[1, 2, 2, 1],\n",
    "                          strides=[1, 2, 2, 1], padding='SAME') \n",
    "    #ksize-> size of the window for each dimension of the input tensor\n",
    "    #strides->stride of the sliding window"
   ]
  },
  {
   "cell_type": "code",
   "execution_count": 0,
   "metadata": {
    "colab": {
     "autoexec": {
      "startup": false,
      "wait_interval": 0
     }
    },
    "colab_type": "code",
    "id": "fZ8-TSSlCqib"
   },
   "outputs": [],
   "source": [
    "# CONVOLUTIONAL LAYER\n",
    "def convolutional_layer(input_x, shape):\n",
    "    W = init_weights(shape)\n",
    "    b = init_bias([shape[3]])\n",
    "    return tf.nn.relu(conv2d(input_x, W) + b)"
   ]
  },
  {
   "cell_type": "code",
   "execution_count": 0,
   "metadata": {
    "colab": {
     "autoexec": {
      "startup": false,
      "wait_interval": 0
     }
    },
    "colab_type": "code",
    "id": "jm3FxqkaCqii"
   },
   "outputs": [],
   "source": [
    "# NORMAL/ FULLY CONNECTED LAYER\n",
    "def normal_full_layer(input_layer, size):\n",
    "    input_size = int(input_layer.get_shape()[1])\n",
    "    W = init_weights([input_size, size])\n",
    "    b = init_bias([size])\n",
    "    return tf.matmul(input_layer, W) + b"
   ]
  },
  {
   "cell_type": "code",
   "execution_count": 0,
   "metadata": {
    "colab": {
     "autoexec": {
      "startup": false,
      "wait_interval": 0
     }
    },
    "colab_type": "code",
    "id": "t9uv3XM-Cqim"
   },
   "outputs": [],
   "source": [
    "# PLACEHOLDERS\n",
    "x = tf.placeholder(tf.float32, shape=[None, 784])\n",
    "y_true = tf.placeholder(tf.float32, shape=[None, 10])"
   ]
  },
  {
   "cell_type": "code",
   "execution_count": 0,
   "metadata": {
    "colab": {
     "autoexec": {
      "startup": false,
      "wait_interval": 0
     }
    },
    "colab_type": "code",
    "id": "L7o1SJClCqis"
   },
   "outputs": [],
   "source": [
    "# LAYERS"
   ]
  },
  {
   "cell_type": "code",
   "execution_count": 0,
   "metadata": {
    "colab": {
     "autoexec": {
      "startup": false,
      "wait_interval": 0
     }
    },
    "colab_type": "code",
    "id": "wgMIAeXpCqiv"
   },
   "outputs": [],
   "source": [
    "# reshape the image layer (input) back into 28x28 as it is flattened out \n",
    "x_image = tf.reshape(x,[-1,28,28,1])"
   ]
  },
  {
   "cell_type": "code",
   "execution_count": 0,
   "metadata": {
    "colab": {
     "autoexec": {
      "startup": false,
      "wait_interval": 0
     }
    },
    "colab_type": "code",
    "id": "OxqZL8asCqiz"
   },
   "outputs": [],
   "source": [
    "\n",
    "# convolutional layers  \n",
    "convo_1 = convolutional_layer(x_image,shape=[6,6,1,32])\n",
    "convo_1_pooling = max_pool_2by2(convo_1)"
   ]
  },
  {
   "cell_type": "code",
   "execution_count": 0,
   "metadata": {
    "colab": {
     "autoexec": {
      "startup": false,
      "wait_interval": 0
     }
    },
    "colab_type": "code",
    "id": "VmG1ZPUkCqi6"
   },
   "outputs": [],
   "source": [
    "convo_2 = convolutional_layer(convo_1_pooling, shape = [5,5,32,64])\n",
    "convo_2_pooling = max_pool_2by2(convo_2)"
   ]
  },
  {
   "cell_type": "code",
   "execution_count": 0,
   "metadata": {
    "colab": {
     "autoexec": {
      "startup": false,
      "wait_interval": 0
     }
    },
    "colab_type": "code",
    "id": "63vsdhORCqjA"
   },
   "outputs": [],
   "source": [
    "convo_2_flat = tf.reshape(convo_2_pooling,[-1, 7*7*64])\n",
    "full_layer_one = tf.nn.relu(normal_full_layer(convo_2_flat, 1024))\n",
    "# 1024 is the no. of neurons"
   ]
  },
  {
   "cell_type": "code",
   "execution_count": 0,
   "metadata": {
    "colab": {
     "autoexec": {
      "startup": false,
      "wait_interval": 0
     }
    },
    "colab_type": "code",
    "id": "lEmevPV4CqjE"
   },
   "outputs": [],
   "source": [
    "# Dropout (to prevent overfitting)"
   ]
  },
  {
   "cell_type": "code",
   "execution_count": 0,
   "metadata": {
    "colab": {
     "autoexec": {
      "startup": false,
      "wait_interval": 0
     }
    },
    "colab_type": "code",
    "id": "s0G_VISNCqjL"
   },
   "outputs": [],
   "source": [
    "hold_prob = tf.placeholder(tf.float32)\n",
    "full_one_dropout = tf.nn.dropout(full_layer_one, keep_prob = hold_prob)"
   ]
  },
  {
   "cell_type": "code",
   "execution_count": 0,
   "metadata": {
    "colab": {
     "autoexec": {
      "startup": false,
      "wait_interval": 0
     }
    },
    "colab_type": "code",
    "id": "QLCqherpCqjP"
   },
   "outputs": [],
   "source": [
    "y_pred = normal_full_layer(full_one_dropout, 10)"
   ]
  },
  {
   "cell_type": "code",
   "execution_count": 20,
   "metadata": {
    "colab": {
     "autoexec": {
      "startup": false,
      "wait_interval": 0
     },
     "base_uri": "https://localhost:8080/",
     "height": 173,
     "output_extras": [
      {
       "item_id": 1
      }
     ]
    },
    "colab_type": "code",
    "executionInfo": {
     "elapsed": 1222,
     "status": "ok",
     "timestamp": 1520435946595,
     "user": {
      "displayName": "Merishna Singh Suwal",
      "photoUrl": "//lh3.googleusercontent.com/-vrpR-40Xvo0/AAAAAAAAAAI/AAAAAAAAATE/UqEWOwF4w5o/s50-c-k-no/photo.jpg",
      "userId": "103265059618479394145"
     },
     "user_tz": -345
    },
    "id": "SRBJ29XKCqjV",
    "outputId": "89893b07-06d6-482a-aa9a-8385512d125d"
   },
   "outputs": [
    {
     "name": "stdout",
     "output_type": "stream",
     "text": [
      "WARNING:tensorflow:From <ipython-input-20-a6582372d089>:1: softmax_cross_entropy_with_logits (from tensorflow.python.ops.nn_ops) is deprecated and will be removed in a future version.\n",
      "Instructions for updating:\n",
      "\n",
      "Future major versions of TensorFlow will allow gradients to flow\n",
      "into the labels input on backprop by default.\n",
      "\n",
      "See tf.nn.softmax_cross_entropy_with_logits_v2.\n",
      "\n"
     ]
    }
   ],
   "source": [
    "# LOSS FUNCTION\n",
    "cross_entropy = tf.reduce_mean(tf.nn.softmax_cross_entropy_with_logits(labels = y_true, logits = y_pred))"
   ]
  },
  {
   "cell_type": "code",
   "execution_count": 0,
   "metadata": {
    "colab": {
     "autoexec": {
      "startup": false,
      "wait_interval": 0
     }
    },
    "colab_type": "code",
    "id": "pMH-6WE9Cqja"
   },
   "outputs": [],
   "source": [
    "# OPTIMIZER (ADAM)\n",
    "optimizer = tf.train.AdamOptimizer(learning_rate=0.001)\n",
    "train = optimizer.minimize(cross_entropy)"
   ]
  },
  {
   "cell_type": "code",
   "execution_count": 0,
   "metadata": {
    "colab": {
     "autoexec": {
      "startup": false,
      "wait_interval": 0
     }
    },
    "colab_type": "code",
    "id": "vctwB1-QCqje"
   },
   "outputs": [],
   "source": [
    "init = tf.global_variables_initializer()"
   ]
  },
  {
   "cell_type": "code",
   "execution_count": 26,
   "metadata": {
    "colab": {
     "autoexec": {
      "startup": false,
      "wait_interval": 0
     },
     "base_uri": "https://localhost:8080/",
     "height": 2567,
     "output_extras": [
      {
       "item_id": 100
      }
     ]
    },
    "colab_type": "code",
    "executionInfo": {
     "elapsed": 1288764,
     "status": "ok",
     "timestamp": 1520437398562,
     "user": {
      "displayName": "Merishna Singh Suwal",
      "photoUrl": "//lh3.googleusercontent.com/-vrpR-40Xvo0/AAAAAAAAAAI/AAAAAAAAATE/UqEWOwF4w5o/s50-c-k-no/photo.jpg",
      "userId": "103265059618479394145"
     },
     "user_tz": -345
    },
    "id": "mLaHXPD5Cqjj",
    "outputId": "846c5b26-0459-46cb-b92f-1563f8a10697"
   },
   "outputs": [
    {
     "name": "stdout",
     "output_type": "stream",
     "text": [
      "ON STEP: ()\n",
      "ACCURACY: \n",
      "0.1214\n",
      "ON STEP: ()\n",
      "ACCURACY: \n",
      "0.9365\n",
      "ON STEP: ()\n",
      "ACCURACY: \n",
      "0.9628\n",
      "ON STEP: ()\n",
      "ACCURACY: \n",
      "0.9694\n",
      "ON STEP: ()\n",
      "ACCURACY: \n",
      "0.9744\n",
      "ON STEP: ()\n",
      "ACCURACY: \n",
      "0.9712\n",
      "ON STEP: ()\n",
      "ACCURACY: \n",
      "0.9781\n",
      "ON STEP: ()\n",
      "ACCURACY: \n",
      "0.9808\n",
      "ON STEP: ()\n",
      "ACCURACY: \n",
      "0.9804\n",
      "ON STEP: ()\n",
      "ACCURACY: \n",
      "0.9836\n",
      "ON STEP: ()\n",
      "ACCURACY: \n",
      "0.9816\n",
      "ON STEP: ()\n",
      "ACCURACY: \n",
      "0.9832\n",
      "ON STEP: ()\n",
      "ACCURACY: \n",
      "0.9854\n",
      "ON STEP: ()\n",
      "ACCURACY: \n",
      "0.9857\n",
      "ON STEP: ()\n",
      "ACCURACY: \n",
      "0.9853\n",
      "ON STEP: ()\n",
      "ACCURACY: \n",
      "0.9848\n",
      "ON STEP: ()\n",
      "ACCURACY: \n",
      "0.9861\n",
      "ON STEP: ()\n",
      "ACCURACY: \n",
      "0.9838\n",
      "ON STEP: ()\n",
      "ACCURACY: \n",
      "0.9874\n",
      "ON STEP: ()\n",
      "ACCURACY: \n",
      "0.9861\n",
      "ON STEP: ()\n",
      "ACCURACY: \n",
      "0.9821\n",
      "ON STEP: ()\n",
      "ACCURACY: \n",
      "0.9881\n",
      "ON STEP: ()\n",
      "ACCURACY: \n",
      "0.9893\n",
      "ON STEP: ()\n",
      "ACCURACY: \n",
      "0.9876\n",
      "ON STEP: ()\n",
      "ACCURACY: \n",
      "0.9865\n",
      "ON STEP: ()\n",
      "ACCURACY: \n",
      "0.9888\n",
      "ON STEP: ()\n",
      "ACCURACY: \n",
      "0.9886\n",
      "ON STEP: ()\n",
      "ACCURACY: \n",
      "0.9888\n",
      "ON STEP: ()\n",
      "ACCURACY: \n",
      "0.989\n",
      "ON STEP: ()\n",
      "ACCURACY: \n",
      "0.9914\n",
      "ON STEP: ()\n",
      "ACCURACY: \n",
      "0.9891\n",
      "ON STEP: ()\n",
      "ACCURACY: \n",
      "0.9876\n",
      "ON STEP: ()\n",
      "ACCURACY: \n",
      "0.9897\n",
      "ON STEP: ()\n",
      "ACCURACY: \n",
      "0.9854\n",
      "ON STEP: ()\n",
      "ACCURACY: \n",
      "0.9902\n",
      "ON STEP: ()\n",
      "ACCURACY: \n",
      "0.9879\n",
      "ON STEP: ()\n",
      "ACCURACY: \n",
      "0.9884\n",
      "ON STEP: ()\n",
      "ACCURACY: \n",
      "0.9887\n",
      "ON STEP: ()\n",
      "ACCURACY: \n",
      "0.9881\n",
      "ON STEP: ()\n",
      "ACCURACY: \n",
      "0.99\n",
      "ON STEP: ()\n",
      "ACCURACY: \n",
      "0.9911\n",
      "ON STEP: ()\n",
      "ACCURACY: \n",
      "0.9903\n",
      "ON STEP: ()\n",
      "ACCURACY: \n",
      "0.9913\n",
      "ON STEP: ()\n",
      "ACCURACY: \n",
      "0.989\n",
      "ON STEP: ()\n",
      "ACCURACY: \n",
      "0.9882\n",
      "ON STEP: ()\n",
      "ACCURACY: \n",
      "0.9912\n",
      "ON STEP: ()\n",
      "ACCURACY: \n",
      "0.9908\n",
      "ON STEP: ()\n",
      "ACCURACY: \n",
      "0.99\n",
      "ON STEP: ()\n",
      "ACCURACY: \n",
      "0.9909\n",
      "ON STEP: ()\n",
      "ACCURACY: \n",
      "0.9903\n"
     ]
    }
   ],
   "source": [
    "# RUN THE SESSION\n",
    "steps = 5000\n",
    "\n",
    "with tf.Session() as sess:\n",
    "    \n",
    "    sess.run(init)\n",
    "    \n",
    "    for i in range(steps):\n",
    "        \n",
    "        batch_x , batch_y = mnist.train.next_batch(50)\n",
    "        \n",
    "        sess.run(train,feed_dict={x:batch_x,y_true:batch_y,hold_prob:0.5}) #hold_prob:probability of holding the neuron(50%)\n",
    "        \n",
    "        if i%100 == 0: #every 100 steps\n",
    "            \n",
    "            print(\"ON STEP: ()\".format(i))\n",
    "            print(\"ACCURACY: \")\n",
    "            matches = tf.equal(tf.argmax(y_pred,1),tf.argmax(y_true,1))\n",
    "            acc = tf.reduce_mean(tf.cast(matches, tf.float32))\n",
    "            \n",
    "            print(sess.run(acc, feed_dict={x:mnist.test.images, y_true:mnist.test.labels, hold_prob:1.0}))\n",
    "#             print('\\n')"
   ]
  },
  {
   "cell_type": "code",
   "execution_count": 0,
   "metadata": {
    "colab": {
     "autoexec": {
      "startup": false,
      "wait_interval": 0
     }
    },
    "colab_type": "code",
    "id": "hgQ63C0zCqjp"
   },
   "outputs": [],
   "source": []
  },
  {
   "cell_type": "code",
   "execution_count": 0,
   "metadata": {
    "colab": {
     "autoexec": {
      "startup": false,
      "wait_interval": 0
     }
    },
    "colab_type": "code",
    "id": "-OHR8lXBCqjt"
   },
   "outputs": [],
   "source": []
  },
  {
   "cell_type": "code",
   "execution_count": 0,
   "metadata": {
    "colab": {
     "autoexec": {
      "startup": false,
      "wait_interval": 0
     }
    },
    "colab_type": "code",
    "id": "vfTgF18iCqjx"
   },
   "outputs": [],
   "source": []
  }
 ],
 "metadata": {
  "colab": {
   "collapsed_sections": [],
   "default_view": {},
   "name": "CNN_MNIST.ipynb",
   "provenance": [],
   "version": "0.3.2",
   "views": {}
  },
  "kernelspec": {
   "display_name": "Python 2",
   "language": "python",
   "name": "python2"
  },
  "language_info": {
   "codemirror_mode": {
    "name": "ipython",
    "version": 2
   },
   "file_extension": ".py",
   "mimetype": "text/x-python",
   "name": "python",
   "nbconvert_exporter": "python",
   "pygments_lexer": "ipython2",
   "version": "2.7.14"
  }
 },
 "nbformat": 4,
 "nbformat_minor": 1
}
